{
 "cells": [
  {
   "cell_type": "markdown",
   "metadata": {},
   "source": [
    "# Retrieving and Cutting Relevant Sanaa Scores + Audio\n",
    "This notebook retreives the score portions (and audio, although audio is out of the scope of this project) relating to relevant sanaas. At this point, 'relevant' is defined by a subset that is pre-set in this notebook.\n",
    "In the future, score and audio download should be automated using the Dunya API. However, for now, the audio needs to be manually downloaded (following the instructions of this notebook), and the scores are automatically downloaded from the github repository relating to the corpus. \n",
    "\n",
    "For information about the data and the corpus, please refer to the accompanying paper. The notebooks are only meant to document the preprocessing and plot generation code for result reproducil"
   ]
  },
  {
   "cell_type": "code",
   "execution_count": 42,
   "metadata": {},
   "outputs": [],
   "source": [
    "import sys, os\n",
    "import pandas as pd\n",
    "import urllib.request\n",
    "from music21 import *\n",
    "\n",
    "import csv, glob, re, copy\n",
    "import essentia.standard as es\n",
    "import fractions\n",
    "\n",
    "audio_source_path = 'audio_source/'\n",
    "audio_destination_path = 'audio_dest/'\n",
    "\n",
    "score_source_path = 'score_source/'\n",
    "score_destination_path = 'score_dest/'\n",
    "\n",
    "dataset_file = \"arab_andalusian_sanaas.csv\"\n",
    "\n",
    "corpus_repository = 'https://github.com/MTG/arab-andalusian-music/raw/master/'\n",
    "metadata_file = 'metadata-all-nawbas.csv'\n",
    "scores_directory = 'Scores-MusicXML/'\n",
    "\n",
    "mbids = ['f7bcb9af-6abb-4192-ae3d-37fa811034ce', \n",
    " '8842c1f0-e261-4069-bd59-768bb9a3315c', \n",
    " 'a451a7fc-c53f-462a-b3fc-4377bb588105',\n",
    " 'b11237b9-d45b-4b3a-a97b-ab7d198f927f']\n",
    "\n",
    "fs=44100 #sampling frequency\n",
    "\n",
    "sys.path.append('../') #to be able to use the andalusianextractSanaa \n",
    "import andalusianextractSanaa as sa"
   ]
  },
  {
   "cell_type": "markdown",
   "metadata": {},
   "source": [
    "## Preparing Directories (Manual Download Required. Instructions Given Here!!)\n",
    "The following cells create the directory structure and contents expected by the remaining sections of this notebook."
   ]
  },
  {
   "cell_type": "code",
   "execution_count": 38,
   "metadata": {},
   "outputs": [],
   "source": [
    "directories = [audio_source_path, audio_destination_path, score_source_path, score_destination_path]\n",
    "\n",
    "for directory in directories:\n",
    "    if not os.path.exists(directory):\n",
    "        os.makedirs(directory)"
   ]
  },
  {
   "cell_type": "markdown",
   "metadata": {},
   "source": [
    "\n",
    "First, a metadata file is downloaded from the Arab Andalusian Corpus repository on github. This file links between each mbid and its recording on archive.org, so clear instructions can be given on how to download the file and how to store it as."
   ]
  },
  {
   "cell_type": "code",
   "execution_count": 39,
   "metadata": {},
   "outputs": [
    {
     "name": "stdout",
     "output_type": "stream",
     "text": [
      "Please download audio as MP3 from https://archive.org/details/RTMOrchestra_RTM1960s_QuddamMaya, and save it as \n",
      "f7bcb9af-6abb-4192-ae3d-37fa811034ce.mp3 in audio_source/ directory\n",
      "\n",
      "Please download audio as MP3 from https://archive.org/details/BrihiOrchestra_RTM1960s_DarjMaya, and save it as \n",
      "8842c1f0-e261-4069-bd59-768bb9a3315c.mp3 in audio_source/ directory\n",
      "\n",
      "Please download audio as MP3 from https://archive.org/details/BrihiOrchestra_RTM1960s_BtayhiMaya, and save it as \n",
      "a451a7fc-c53f-462a-b3fc-4377bb588105.mp3 in audio_source/ directory\n",
      "\n"
     ]
    }
   ],
   "source": [
    "#Audio Download\n",
    "urllib.request.urlretrieve(corpus_repository+metadata_file, metadata_file)\n",
    "metadata = pd.read_csv(metadata_file)\n",
    "\n",
    "for mbid in mbids:\n",
    "    row = metadata.loc[metadata['RECORDING_MBID'] == mbid] \n",
    "    audio_url = row['RECORDING_INTERNET_ARCHIVE_URL'].item()\n",
    "    print('Please download audio as MP3 from {}, and save it as \\n{}.mp3 in {} directory\\n'.format(str(audio_url), mbid, audio_source_path))"
   ]
  },
  {
   "cell_type": "code",
   "execution_count": 43,
   "metadata": {},
   "outputs": [
    {
     "name": "stdout",
     "output_type": "stream",
     "text": [
      "https://raw.githubusercontent.com/MTG/arab-andalusian-music/master/Scores-MusicXML/f7bcb9af-6abb-4192-ae3d-37fa811034ce.musicxml\n",
      "https://raw.githubusercontent.com/MTG/arab-andalusian-music/master/Scores-MusicXML/8842c1f0-e261-4069-bd59-768bb9a3315c.musicxml\n",
      "https://raw.githubusercontent.com/MTG/arab-andalusian-music/master/Scores-MusicXML/a451a7fc-c53f-462a-b3fc-4377bb588105.musicxml\n",
      "https://raw.githubusercontent.com/MTG/arab-andalusian-music/master/Scores-MusicXML/b11237b9-d45b-4b3a-a97b-ab7d198f927f.musicxml\n"
     ]
    }
   ],
   "source": [
    "#Score Download\n",
    "#https://raw.githubusercontent.com/MTG/arab-andalusian-music/master/Scores-MusicXML/01da143e-4224-4692-8e6c-1d55f6de8a6d.xml\n",
    "for mbid in mbids:\n",
    "    score_path = 'https://raw.githubusercontent.com/MTG/arab-andalusian-music/master/Scores-MusicXML/{}.musicxml'.format(mbid)\n",
    "    print(score_path)\n",
    "    urllib.request.urlretrieve(score_path, '{}{}.xml'.format(score_source_path, mbid))\n",
    "    "
   ]
  },
  {
   "cell_type": "code",
   "execution_count": 35,
   "metadata": {},
   "outputs": [],
   "source": [
    "#an overlapping element will be stored in the list as: (recording_mbid, sanaa_id), (recording_mbid, sanaa_id)\n",
    "#eg, first tuple retrieved as overlaps[i][0]\n",
    "overlaps = [\n",
    "    (('8842c1f0-e261-4069-bd59-768bb9a3315c', 'mu.2'), ('f7bcb9af-6abb-4192-ae3d-37fa811034ce', 'mu.2')), #darj/quddam. sfrt l'ashiy\n",
    "    (('8842c1f0-e261-4069-bd59-768bb9a3315c', 'in.2'), ('a451a7fc-c53f-462a-b3fc-4377bb588105', 'in.2')), #darj/btayhi. noqla\n",
    "    (('8842c1f0-e261-4069-bd59-768bb9a3315c', 'in.3'), ('a451a7fc-c53f-462a-b3fc-4377bb588105', 'in.4')), #,, itha nathkor\n",
    "    (('8842c1f0-e261-4069-bd59-768bb9a3315c', 'in.4'), ('a451a7fc-c53f-462a-b3fc-4377bb588105', 'in.5')), #,, fi kol el ghoroub\n",
    "    (('8842c1f0-e261-4069-bd59-768bb9a3315c', 'in.5'), ('a451a7fc-c53f-462a-b3fc-4377bb588105', 'in.6')), #,, ya laha ashiyah\n",
    "    (('b11237b9-d45b-4b3a-a97b-ab7d198f927f ', 'mu.1'), ('f7bcb9af-6abb-4192-ae3d-37fa811034ce', 'mu.1')),\n",
    "    (('b11237b9-d45b-4b3a-a97b-ab7d198f927f', 'ma.2'), ('f7bcb9af-6abb-4192-ae3d-37fa811034ce', 'ma.1')), #qult ya ashiyah (quddam)\n",
    "    (('b11237b9-d45b-4b3a-a97b-ab7d198f927f', 'in.1'), ('f7bcb9af-6abb-4192-ae3d-37fa811034ce', 'in.1')), #atham ya ashiyah\n",
    "    (('b11237b9-d45b-4b3a-a97b-ab7d198f927f', 'in.5'), ('f7bcb9af-6abb-4192-ae3d-37fa811034ce', 'in.2')), #safiiqo\n",
    "    (('b11237b9-d45b-4b3a-a97b-ab7d198f927f', 'in.6'), ('f7bcb9af-6abb-4192-ae3d-37fa811034ce', 'in.3')), #ana kully milkon lakom\n",
    "    (('b11237b9-d45b-4b3a-a97b-ab7d198f927f', 'in.7'), ('f7bcb9af-6abb-4192-ae3d-37fa811034ce', 'in.6')), #shams el ashiy rawnaqat\n",
    "    (('f7bcb9af-6abb-4192-ae3d-37fa811034ce', 'in.7'), ('b11237b9-d45b-4b3a-a97b-ab7d198f927f', 'in.8'))  #wadda'tuki lillah\n",
    "]\n"
   ]
  },
  {
   "cell_type": "markdown",
   "metadata": {},
   "source": [
    "## Cutting the Audio Fragments"
   ]
  },
  {
   "cell_type": "markdown",
   "metadata": {},
   "source": [
    "Below is a set of utility functions by which the scores and audio are cut to smaller fragments. They are very tightly coupled to the data csv file, but this will be addressed in future versions of this notebook"
   ]
  },
  {
   "cell_type": "code",
   "execution_count": 33,
   "metadata": {},
   "outputs": [],
   "source": [
    "def get_sanaa_row_indexes(mbid, sanaa_id,  dataset_file):\n",
    "    found_sanaas = []\n",
    "    row = []\n",
    "    with open(dataset_file) as csvfile:\n",
    "        csv_file = csv.reader(csvfile, delimiter=',', quotechar='|')\n",
    "        for rows in csv_file:\n",
    "            row.append(rows)\n",
    "    for count in range(len(row)):\n",
    "        if row[count][0] == mbid and row[count][1] == sanaa_id:\n",
    "            found_sanaas.append(count)\n",
    "    return found_sanaas\n",
    "\n",
    "def extractSanaa_audio(found_sanaas, fs, audio_source_path, audio_destination_path, dataset_file):\n",
    "    row = []\n",
    "    with open(dataset_file) as csvfile:\n",
    "        csv_file = csv.reader(csvfile, delimiter=',', quotechar='|')\n",
    "        for rows in csv_file:\n",
    "            row.append(rows)\n",
    "    for i in range(len(found_sanaas)):\n",
    "        loader = es.MonoLoader(filename = os.path.join(audio_source_path, row[found_sanaas[i]][0] + '.mp3'))\n",
    "        audio = loader()\n",
    "        to_extract = audio[int(float(row[found_sanaas[i]][3])) * fs:int(float(row[found_sanaas[i]][4])) * fs]\n",
    "        es.MonoWriter(filename= os.path.join(audio_destination_path,row[found_sanaas[i]][0]+'-'+row[found_sanaas[i]][1]+'-['+row[found_sanaas[i]][2]+'].wav'))(to_extract)\n",
    "        \n",
    "        \n",
    "def extractSanaa_score(found_sanaas, score_source_path, score_destination_path, dataset_file):\n",
    "    row = []\n",
    "    with open(dataset_file) as csvfile:\n",
    "        csv_file = csv.reader(csvfile, delimiter=',', quotechar='|')\n",
    "        for rows in csv_file:\n",
    "            row.append(rows)\n",
    "    for i in range(len(found_sanaas)):\n",
    "        fn = os.path.join(score_source_path, row[found_sanaas[i]][0]+ '.xml')\n",
    "        s = converter.parse(fn)\n",
    "        p = s.parts[0]\n",
    "        if(row[found_sanaas[i]][5]!='-' and row[found_sanaas[i]][6]!='-'):\n",
    "            segment = p.getElementsByOffset(float(row[found_sanaas[i]][5]), float(row[found_sanaas[i]][6]),\n",
    "                              mustBeginInSpan=False,\n",
    "                              includeElementsThatEndAtStart=False).stream()\n",
    "            seg_measures = segment.getElementsByClass(stream.Measure)\n",
    "            seg_timesigs = seg_measures[0].getTimeSignatures()[0]\n",
    "            print(seg_timesigs)\n",
    "            segment.insert(0, seg_timesigs)\n",
    "\n",
    "            segment.write('musicxml', fp=os.path.join(score_destination_path,row[found_sanaas[i]][0]+'-'+row[found_sanaas[i]][1]+'-['+row[found_sanaas[i]][2]+'].xml'))"
   ]
  },
  {
   "cell_type": "markdown",
   "metadata": {},
   "source": [
    "The following section of code maps between a sanaa mbid + index into its row in the csv, so that score and audio segmentation can be more organized. Note that this code segment takes time because of the audio loading part. It could be more efficient in the future by cutting all sanaas of the same audio at the same time. However, since the number of sanaas now are not that many this improvement was not implemented"
   ]
  },
  {
   "cell_type": "code",
   "execution_count": 44,
   "metadata": {},
   "outputs": [
    {
     "name": "stdout",
     "output_type": "stream",
     "text": [
      "<music21.meter.TimeSignature 4/4>\n",
      "<music21.meter.TimeSignature 3/4>\n",
      "<music21.meter.TimeSignature 8/8>\n",
      "<music21.meter.TimeSignature 8/8>\n",
      "<music21.meter.TimeSignature 8/8>\n",
      "<music21.meter.TimeSignature 8/8>\n",
      "<music21.meter.TimeSignature 8/8>\n",
      "<music21.meter.TimeSignature 8/8>\n",
      "<music21.meter.TimeSignature 8/8>\n",
      "<music21.meter.TimeSignature 8/8>\n",
      "<music21.meter.TimeSignature 3/4>\n",
      "<music21.meter.TimeSignature 3/4>\n",
      "<music21.meter.TimeSignature 3/4>\n",
      "<music21.meter.TimeSignature 6/8>\n",
      "<music21.meter.TimeSignature 6/8>\n",
      "<music21.meter.TimeSignature 6/8>\n",
      "<music21.meter.TimeSignature 6/8>\n",
      "<music21.meter.TimeSignature 6/8>\n",
      "<music21.meter.TimeSignature 6/8>\n",
      "<music21.meter.TimeSignature 6/8>\n",
      "<music21.meter.TimeSignature 6/8>\n",
      "<music21.meter.TimeSignature 6/8>\n",
      "<music21.meter.TimeSignature 6/8>\n"
     ]
    }
   ],
   "source": [
    "ids2indexes = {}\n",
    "for s1, s2 in overlaps:\n",
    "    ids2indexes[s1[0]+ '-' + s1[1]] = get_sanaa_row_indexes(s1[0], s1[1], dataset_file)\n",
    "    ids2indexes[s2[0]+ '-' + s2[1]] = get_sanaa_row_indexes(s2[0], s2[1], dataset_file)\n",
    "    \n",
    "for key, val in ids2indexes.items():\n",
    "    extractSanaa_score(val, score_source_path, score_destination_path, dataset_file)\n",
    "    extractSanaa_audio(val, fs, audio_source_path, audio_destination_path, dataset_file)"
   ]
  },
  {
   "cell_type": "markdown",
   "metadata": {},
   "source": []
  }
 ],
 "metadata": {
  "kernelspec": {
   "display_name": "Python 3",
   "language": "python",
   "name": "python3"
  },
  "language_info": {
   "codemirror_mode": {
    "name": "ipython",
    "version": 3
   },
   "file_extension": ".py",
   "mimetype": "text/x-python",
   "name": "python",
   "nbconvert_exporter": "python",
   "pygments_lexer": "ipython3",
   "version": "3.7.2"
  }
 },
 "nbformat": 4,
 "nbformat_minor": 2
}
