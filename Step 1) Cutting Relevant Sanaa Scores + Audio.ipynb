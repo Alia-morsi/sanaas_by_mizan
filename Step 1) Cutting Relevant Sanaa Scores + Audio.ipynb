{
 "cells": [
  {
   "cell_type": "markdown",
   "metadata": {},
   "source": [
    "# Retrieving Relevant Sanaa Scores\n",
    "This notebook retreives the score portions relating to relevant sanaas. At this point, 'relevant' is defined by a subset that is pre-set in this notebook. However, futurisitcally, this should be based on some programmed criterion computable from the annotations. Another limitation of this notebook is that it relies on local data (score representations and annotations) to compute its result wherease these should be changed to rely on the dunya api.\n",
    "\n",
    "Also, the processing is largely based on the csv file that lists the sanaas one row at a time. All searches are tightly coupled with row ids of the sanaas. For long term this will be changed such that it is an intermediary data structure that gives some independence from the dataset file."
   ]
  },
  {
   "cell_type": "code",
   "execution_count": 1,
   "metadata": {},
   "outputs": [],
   "source": [
    "import sys\n",
    "import os\n",
    "sys.path.append('../') #to be able to use the andalusianextractSanaa \n",
    "\n",
    "import andalusianextractSanaa as sa\n",
    "import csv\n",
    "import glob\n",
    "from music21 import *\n",
    "import re\n",
    "import copy\n",
    "from prettytable import PrettyTable\n",
    "from praatio import tgio\n",
    "\n",
    "audio_source_path = 'audio_source/'\n",
    "audio_destination_path = 'audio_dest/'\n",
    "\n",
    "score_source_path = 'score_source/'\n",
    "score_destination_path = 'score_dest/'\n",
    "\n",
    "dataset_file = \"arab_andalusian_sanaas.csv\"\n",
    "\n",
    "fs=44100 #sampling frequency"
   ]
  },
  {
   "cell_type": "code",
   "execution_count": 2,
   "metadata": {},
   "outputs": [],
   "source": [
    "#an overlapping element will be stored in the list as: (recording_mbid, sanaa_id), (recording_mbid, sanaa_id)\n",
    "#eg, first tuple retrieved as overlaps[i][0]\n",
    "overlaps = [\n",
    "    (('8842c1f0-e261-4069-bd59-768bb9a3315c', 'mu.2'), ('f7bcb9af-6abb-4192-ae3d-37fa811034ce', 'mu.2')), #darj/quddam. sfrt l'ashiy\n",
    "    (('8842c1f0-e261-4069-bd59-768bb9a3315c', 'in.2'), ('a451a7fc-c53f-462a-b3fc-4377bb588105', 'in.2')), #darj/btayhi. noqla\n",
    "    (('8842c1f0-e261-4069-bd59-768bb9a3315c', 'in.3'), ('a451a7fc-c53f-462a-b3fc-4377bb588105', 'in.4')), #,, itha nathkor\n",
    "    (('8842c1f0-e261-4069-bd59-768bb9a3315c', 'in.4'), ('a451a7fc-c53f-462a-b3fc-4377bb588105', 'in.5')), #,, fi kol el ghoroub\n",
    "    (('8842c1f0-e261-4069-bd59-768bb9a3315c', 'in.5'), ('a451a7fc-c53f-462a-b3fc-4377bb588105', 'in.6')), #,, ya laha ashiyah\n",
    "    (('b11237b9-d45b-4b3a-a97b-ab7d198f927f ', 'mu.1'), ('f7bcb9af-6abb-4192-ae3d-37fa811034ce', 'mu.1')),\n",
    "    (('b11237b9-d45b-4b3a-a97b-ab7d198f927f', 'ma.2'), ('f7bcb9af-6abb-4192-ae3d-37fa811034ce', 'ma.1')), #qult ya ashiyah (quddam)\n",
    "    (('b11237b9-d45b-4b3a-a97b-ab7d198f927f', 'in.1'), ('f7bcb9af-6abb-4192-ae3d-37fa811034ce', 'in.1')), #atham ya ashiyah\n",
    "    (('b11237b9-d45b-4b3a-a97b-ab7d198f927f', 'in.5'), ('f7bcb9af-6abb-4192-ae3d-37fa811034ce', 'in.2')), #safiiqo\n",
    "    (('b11237b9-d45b-4b3a-a97b-ab7d198f927f', 'in.6'), ('f7bcb9af-6abb-4192-ae3d-37fa811034ce', 'in.3')), #ana kully milkon lakom\n",
    "    (('b11237b9-d45b-4b3a-a97b-ab7d198f927f', 'in.7'), ('f7bcb9af-6abb-4192-ae3d-37fa811034ce', 'in.6')), #shams el ashiy rawnaqat\n",
    "    (('f7bcb9af-6abb-4192-ae3d-37fa811034ce', 'in.7'), ('b11237b9-d45b-4b3a-a97b-ab7d198f927f', 'in.8'))  #wadda'tuki lillah\n",
    "]\n"
   ]
  },
  {
   "cell_type": "code",
   "execution_count": null,
   "metadata": {},
   "outputs": [],
   "source": []
  },
  {
   "cell_type": "code",
   "execution_count": 3,
   "metadata": {},
   "outputs": [],
   "source": [
    "sanaa_name = 'mu.1'\n",
    "poetry_form = 'Qasida'\n",
    "#found_sanaas = sa.search_sanaa(sanaa_name, poetry_form) # First look for the sanaa's that have the requirements\n",
    "found_sanaas = sa.get_sanaa_row_indexes('8842c1f0-e261-4069-bd59-768bb9a3315c', 'in.4', dataset_file)\n",
    "\n",
    "#sa.extractSanaa_audio(found_sanaas, fs, pathToLoad)\n",
    "#sa.extractSanaa_score(found_sanaas, pathToLoad) # extract the audio"
   ]
  },
  {
   "cell_type": "markdown",
   "metadata": {},
   "source": [
    "The following section of code maps between a sanaa mbid + index into its row in the csv, so that score and audio segmentation can be more organized. "
   ]
  },
  {
   "cell_type": "code",
   "execution_count": 4,
   "metadata": {},
   "outputs": [
    {
     "name": "stdout",
     "output_type": "stream",
     "text": [
      "<music21.meter.TimeSignature 4/4>\n",
      "<music21.meter.TimeSignature 3/4>\n",
      "<music21.meter.TimeSignature 8/8>\n",
      "<music21.meter.TimeSignature 8/8>\n",
      "<music21.meter.TimeSignature 8/8>\n",
      "<music21.meter.TimeSignature 8/8>\n",
      "<music21.meter.TimeSignature 8/8>\n",
      "<music21.meter.TimeSignature 8/8>\n",
      "<music21.meter.TimeSignature 8/8>\n",
      "<music21.meter.TimeSignature 8/8>\n",
      "<music21.meter.TimeSignature 3/4>\n",
      "<music21.meter.TimeSignature 3/4>\n",
      "<music21.meter.TimeSignature 3/4>\n",
      "<music21.meter.TimeSignature 6/8>\n",
      "<music21.meter.TimeSignature 3/4>\n",
      "<music21.meter.TimeSignature 6/8>\n",
      "<music21.meter.TimeSignature 6/8>\n",
      "<music21.meter.TimeSignature 6/8>\n",
      "<music21.meter.TimeSignature 6/8>\n",
      "<music21.meter.TimeSignature 6/8>\n",
      "<music21.meter.TimeSignature 6/8>\n",
      "<music21.meter.TimeSignature 6/8>\n",
      "<music21.meter.TimeSignature 6/8>\n"
     ]
    }
   ],
   "source": [
    "ids2indexes = {}\n",
    "for s1, s2 in overlaps:\n",
    "    ids2indexes[s1[0]+ '-' + s1[1]] = sa.get_sanaa_row_indexes(s1[0], s1[1], dataset_file)\n",
    "    ids2indexes[s2[0]+ '-' + s2[1]] = sa.get_sanaa_row_indexes(s2[0], s2[1], dataset_file)\n",
    "    \n",
    "for key, val in ids2indexes.items():\n",
    "    sa.extractSanaa_score(val, score_source_path, score_destination_path, dataset_file)\n",
    "    sa.extractSanaa_audio(val, fs, audio_source_path, audio_destination_path, dataset_file)"
   ]
  },
  {
   "cell_type": "markdown",
   "metadata": {},
   "source": []
  }
 ],
 "metadata": {
  "kernelspec": {
   "display_name": "Python 3",
   "language": "python",
   "name": "python3"
  },
  "language_info": {
   "codemirror_mode": {
    "name": "ipython",
    "version": 3
   },
   "file_extension": ".py",
   "mimetype": "text/x-python",
   "name": "python",
   "nbconvert_exporter": "python",
   "pygments_lexer": "ipython3",
   "version": "3.7.2"
  }
 },
 "nbformat": 4,
 "nbformat_minor": 2
}
